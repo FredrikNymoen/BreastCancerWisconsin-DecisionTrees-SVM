{
 "cells": [
  {
   "cell_type": "code",
   "execution_count": 2,
   "id": "e8b7f666",
   "metadata": {},
   "outputs": [],
   "source": [
    "# Task 2 – Decision Trees\n",
    "import sys\n",
    "from pathlib import Path\n",
    "\n",
    "ROOT = Path.cwd().parents[1] \n",
    "sys.path.append(str(ROOT / \"src\"))\n",
    "\n",
    "import pandas as pd\n",
    "from sklearn.datasets import load_breast_cancer\n",
    "from sklearn.tree import DecisionTreeClassifier\n",
    "from sklearn.model_selection import cross_val_score\n",
    "from sklearn.model_selection import train_test_split\n",
    "import matplotlib.pyplot as plt\n",
    "\n",
    "from paths import OUTPUTS\n",
    "from utils import savefig\n",
    "\n",
    "RNG = 42 #sets a fixed random seed so that splitting the dataset into training, validation, and test sets produce the same results every time the code is run"
   ]
  },
  {
   "cell_type": "code",
   "execution_count": 3,
   "id": "c3d8b1bc",
   "metadata": {},
   "outputs": [
    {
     "name": "stdout",
     "output_type": "stream",
     "text": [
      "Decision Tree (default) - Validation Accuracy:\n",
      "Mean: 0.9062,  Std: 0.0198\n"
     ]
    }
   ],
   "source": [
    "data = load_breast_cancer()\n",
    "X = pd.DataFrame(data.data, columns=data.feature_names)\n",
    "y = pd.Series(data.target, name=\"target\")\n",
    "\n",
    "X_train, X_temp, y_train, y_temp = train_test_split(\n",
    "    X, y, test_size=0.4, stratify=y, random_state=RNG\n",
    ")\n",
    "\n",
    "\n",
    "# Use default parameters\n",
    "dt = DecisionTreeClassifier(random_state=RNG)\n",
    "\n",
    "# 5-fold cross-validation on the TRAINING set\n",
    "scores = cross_val_score(dt, X_train, y_train, cv=5, scoring=\"accuracy\")\n",
    "\n",
    "print(f\"Decision Tree (default) - Validation Accuracy:\")\n",
    "print(f\"Mean: {scores.mean():.4f},  Std: {scores.std():.4f}\")\n"
   ]
  },
  {
   "cell_type": "code",
   "execution_count": 4,
   "id": "219445da",
   "metadata": {},
   "outputs": [
    {
     "data": {
      "text/plain": [
       "worst radius            0.711044\n",
       "worst concave points    0.157981\n",
       "texture error           0.039003\n",
       "worst texture           0.027540\n",
       "mean texture            0.022306\n",
       "worst concavity         0.021558\n",
       "mean radius             0.011651\n",
       "smoothness error        0.005967\n",
       "radius error            0.002951\n",
       "mean concavity          0.000000\n",
       "dtype: float64"
      ]
     },
     "metadata": {},
     "output_type": "display_data"
    },
    {
     "name": "stdout",
     "output_type": "stream",
     "text": [
      "\n",
      "Top 3 most important features:\n",
      "1. worst radius (0.7110)\n",
      "2. worst concave points (0.1580)\n",
      "3. texture error (0.0390)\n"
     ]
    }
   ],
   "source": [
    "# Train model on the entire training set\n",
    "dt.fit(X_train, y_train)\n",
    "\n",
    "# Extract feature importances\n",
    "importances = pd.Series(dt.feature_importances_, index=X.columns)\n",
    "\n",
    "# Sort descending and display top 10\n",
    "importances_sorted = importances.sort_values(ascending=False)\n",
    "display(importances_sorted.head(10))\n",
    "importances_sorted.to_csv(OUTPUTS / \"feature_importances_default_tree.csv\")\n",
    "\n",
    "# Identify top 3\n",
    "top3 = importances_sorted.head(3)\n",
    "print(\"\\nTop 3 most important features:\")\n",
    "for i, (feat, val) in enumerate(top3.items(), start=1):\n",
    "    print(f\"{i}. {feat} ({val:.4f})\")"
   ]
  },
  {
   "cell_type": "markdown",
   "id": "53ea596e",
   "metadata": {},
   "source": [
    "The Decision Tree classifier was trained using default hyperparameters and evaluated with 5-fold cross-validation on the training set. The model achieved a mean validation accuracy of 0.9062 with a standard deviation of 0.0198, indicating strong and consistent performance across folds.\n",
    "\n",
    "Feature importance analysis shows that the model relies heavily on a few key variables. The most influential feature is worst radius (importance = 0.711), followed by worst concave points (0.158) and texture error (0.039). These features together explain most of the model’s decision-making process.\n",
    "\n",
    "In practical terms, this means the size and shape irregularity of the cell nuclei are the strongest indicators for distinguishing malignant from benign tumors — a finding that aligns well with biological understanding of breast cancer pathology."
   ]
  },
  {
   "cell_type": "code",
   "execution_count": 5,
   "id": "46fbef43",
   "metadata": {},
   "outputs": [
    {
     "data": {
      "text/html": [
       "<div>\n",
       "<style scoped>\n",
       "    .dataframe tbody tr th:only-of-type {\n",
       "        vertical-align: middle;\n",
       "    }\n",
       "\n",
       "    .dataframe tbody tr th {\n",
       "        vertical-align: top;\n",
       "    }\n",
       "\n",
       "    .dataframe thead th {\n",
       "        text-align: right;\n",
       "    }\n",
       "</style>\n",
       "<table border=\"1\" class=\"dataframe\">\n",
       "  <thead>\n",
       "    <tr style=\"text-align: right;\">\n",
       "      <th></th>\n",
       "      <th>max_depth</th>\n",
       "      <th>mean_acc</th>\n",
       "      <th>std_acc</th>\n",
       "    </tr>\n",
       "  </thead>\n",
       "  <tbody>\n",
       "    <tr>\n",
       "      <th>0</th>\n",
       "      <td>1</td>\n",
       "      <td>0.912020</td>\n",
       "      <td>0.042625</td>\n",
       "    </tr>\n",
       "    <tr>\n",
       "      <th>1</th>\n",
       "      <td>2</td>\n",
       "      <td>0.950171</td>\n",
       "      <td>0.025584</td>\n",
       "    </tr>\n",
       "    <tr>\n",
       "      <th>2</th>\n",
       "      <td>3</td>\n",
       "      <td>0.935465</td>\n",
       "      <td>0.028854</td>\n",
       "    </tr>\n",
       "    <tr>\n",
       "      <th>3</th>\n",
       "      <td>4</td>\n",
       "      <td>0.920801</td>\n",
       "      <td>0.007389</td>\n",
       "    </tr>\n",
       "    <tr>\n",
       "      <th>4</th>\n",
       "      <td>5</td>\n",
       "      <td>0.917945</td>\n",
       "      <td>0.014594</td>\n",
       "    </tr>\n",
       "    <tr>\n",
       "      <th>5</th>\n",
       "      <td>6</td>\n",
       "      <td>0.915004</td>\n",
       "      <td>0.016851</td>\n",
       "    </tr>\n",
       "    <tr>\n",
       "      <th>6</th>\n",
       "      <td>7</td>\n",
       "      <td>0.906181</td>\n",
       "      <td>0.019825</td>\n",
       "    </tr>\n",
       "    <tr>\n",
       "      <th>7</th>\n",
       "      <td>8</td>\n",
       "      <td>0.906181</td>\n",
       "      <td>0.019825</td>\n",
       "    </tr>\n",
       "    <tr>\n",
       "      <th>8</th>\n",
       "      <td>9</td>\n",
       "      <td>0.906181</td>\n",
       "      <td>0.019825</td>\n",
       "    </tr>\n",
       "    <tr>\n",
       "      <th>9</th>\n",
       "      <td>10</td>\n",
       "      <td>0.906181</td>\n",
       "      <td>0.019825</td>\n",
       "    </tr>\n",
       "  </tbody>\n",
       "</table>\n",
       "</div>"
      ],
      "text/plain": [
       "   max_depth  mean_acc   std_acc\n",
       "0          1  0.912020  0.042625\n",
       "1          2  0.950171  0.025584\n",
       "2          3  0.935465  0.028854\n",
       "3          4  0.920801  0.007389\n",
       "4          5  0.917945  0.014594\n",
       "5          6  0.915004  0.016851\n",
       "6          7  0.906181  0.019825\n",
       "7          8  0.906181  0.019825\n",
       "8          9  0.906181  0.019825\n",
       "9         10  0.906181  0.019825"
      ]
     },
     "metadata": {},
     "output_type": "display_data"
    },
    {
     "data": {
      "image/png": "[encoded data removed]",
      "text/plain": [
       "<Figure size 700x400 with 1 Axes>"
      ]
     },
     "metadata": {},
     "output_type": "display_data"
    },
    {
     "name": "stdout",
     "output_type": "stream",
     "text": [
      "Best depth: 2, mean accuracy = 0.9502\n"
     ]
    }
   ],
   "source": [
    "\n",
    "depths = range(1, 11)\n",
    "results = []\n",
    "\n",
    "for d in depths:\n",
    "    dt = DecisionTreeClassifier(max_depth=d, random_state=RNG)\n",
    "    scores = cross_val_score(dt, X_train, y_train, cv=5, scoring=\"accuracy\")\n",
    "    results.append((d, scores.mean(), scores.std()))\n",
    "\n",
    "df_depth = pd.DataFrame(results, columns=[\"max_depth\", \"mean_acc\", \"std_acc\"])\n",
    "display(df_depth)\n",
    "df_depth.to_csv(OUTPUTS / \"cv_depth_results.csv\", index=False)\n",
    "\n",
    "# Plot validation performance\n",
    "plt.figure(figsize=(7, 4))\n",
    "plt.errorbar(df_depth[\"max_depth\"], df_depth[\"mean_acc\"], yerr=df_depth[\"std_acc\"], fmt='-o')\n",
    "plt.xlabel(\"max_depth\")\n",
    "plt.ylabel(\"Validation Accuracy (5-fold CV)\")\n",
    "plt.title(\"Decision Tree performance vs. max_depth\")\n",
    "plt.grid(True)\n",
    "savefig(\"dt_performance_vs_depth.png\")\n",
    "plt.show()\n",
    "\n",
    "best_depth = df_depth.loc[df_depth[\"mean_acc\"].idxmax()]\n",
    "print(f\"Best depth: {int(best_depth['max_depth'])}, mean accuracy = {best_depth['mean_acc']:.4f}\")"
   ]
  },
  {
   "cell_type": "markdown",
   "id": "c34c6a38",
   "metadata": {},
   "source": [
    "The Decision Tree classifier was trained with different max_depth values ranging from 1 to 10, and evaluated using 5-fold cross-validation on the training set.\n",
    "The results show that validation accuracy increases sharply from depth 1 to 2, peaking at 0.9502 ± 0.0256, after which it gradually declines.\n",
    "\n",
    "This pattern illustrates the trade-off between underfitting and overfitting:\n",
    "\n",
    "At low depths (1–2), the tree captures the main structure of the data without memorizing noise, leading to strong generalization.\n",
    "\n",
    "At higher depths (4–10), the tree becomes more complex, fitting training data too closely and losing generalization power — a classic sign of overfitting.\n",
    "\n",
    "Therefore, the optimal depth is max_depth = 2, as it provides the best balance between model simplicity and predictive accuracy on unseen data."
   ]
  },
  {
   "cell_type": "code",
   "execution_count": 8,
   "id": "dd2b841e",
   "metadata": {},
   "outputs": [
    {
     "data": {
      "text/html": [
       "<div>\n",
       "<style scoped>\n",
       "    .dataframe tbody tr th:only-of-type {\n",
       "        vertical-align: middle;\n",
       "    }\n",
       "\n",
       "    .dataframe tbody tr th {\n",
       "        vertical-align: top;\n",
       "    }\n",
       "\n",
       "    .dataframe thead th {\n",
       "        text-align: right;\n",
       "    }\n",
       "</style>\n",
       "<table border=\"1\" class=\"dataframe\">\n",
       "  <thead>\n",
       "    <tr style=\"text-align: right;\">\n",
       "      <th></th>\n",
       "      <th>min_samples_leaf</th>\n",
       "      <th>mean_acc</th>\n",
       "      <th>std_acc</th>\n",
       "    </tr>\n",
       "  </thead>\n",
       "  <tbody>\n",
       "    <tr>\n",
       "      <th>0</th>\n",
       "      <td>1</td>\n",
       "      <td>0.947144</td>\n",
       "      <td>0.020049</td>\n",
       "    </tr>\n",
       "    <tr>\n",
       "      <th>1</th>\n",
       "      <td>2</td>\n",
       "      <td>0.944203</td>\n",
       "      <td>0.021718</td>\n",
       "    </tr>\n",
       "    <tr>\n",
       "      <th>2</th>\n",
       "      <td>4</td>\n",
       "      <td>0.950085</td>\n",
       "      <td>0.020037</td>\n",
       "    </tr>\n",
       "    <tr>\n",
       "      <th>3</th>\n",
       "      <td>6</td>\n",
       "      <td>0.947144</td>\n",
       "      <td>0.017761</td>\n",
       "    </tr>\n",
       "    <tr>\n",
       "      <th>4</th>\n",
       "      <td>8</td>\n",
       "      <td>0.947144</td>\n",
       "      <td>0.017761</td>\n",
       "    </tr>\n",
       "    <tr>\n",
       "      <th>5</th>\n",
       "      <td>10</td>\n",
       "      <td>0.944246</td>\n",
       "      <td>0.014515</td>\n",
       "    </tr>\n",
       "    <tr>\n",
       "      <th>6</th>\n",
       "      <td>15</td>\n",
       "      <td>0.941304</td>\n",
       "      <td>0.018704</td>\n",
       "    </tr>\n",
       "    <tr>\n",
       "      <th>7</th>\n",
       "      <td>20</td>\n",
       "      <td>0.941304</td>\n",
       "      <td>0.022866</td>\n",
       "    </tr>\n",
       "  </tbody>\n",
       "</table>\n",
       "</div>"
      ],
      "text/plain": [
       "   min_samples_leaf  mean_acc   std_acc\n",
       "0                 1  0.947144  0.020049\n",
       "1                 2  0.944203  0.021718\n",
       "2                 4  0.950085  0.020037\n",
       "3                 6  0.947144  0.017761\n",
       "4                 8  0.947144  0.017761\n",
       "5                10  0.944246  0.014515\n",
       "6                15  0.941304  0.018704\n",
       "7                20  0.941304  0.022866"
      ]
     },
     "metadata": {},
     "output_type": "display_data"
    },
    {
     "data": {
      "image/png": "[encoded data removed]",
      "text/plain": [
       "<Figure size 700x400 with 1 Axes>"
      ]
     },
     "metadata": {},
     "output_type": "display_data"
    },
    {
     "name": "stdout",
     "output_type": "stream",
     "text": [
      "Best min_samples_leaf: 4, mean accuracy = 0.9501\n"
     ]
    }
   ],
   "source": [
    "from sklearn.model_selection import StratifiedKFold\n",
    "\n",
    "cv = StratifiedKFold(n_splits=5, shuffle=True, random_state=RNG)\n",
    "\n",
    "best_depth_val = int(best_depth[\"max_depth\"]) \n",
    "\n",
    "leaf_values = [1, 2, 4, 6, 8, 10, 15, 20]\n",
    "results_leaf = []\n",
    "\n",
    "for leaf in leaf_values:\n",
    "    dt = DecisionTreeClassifier(max_depth=best_depth_val, \n",
    "                                min_samples_leaf=leaf, \n",
    "                                random_state=RNG)\n",
    "    scores = cross_val_score(dt, X_train, y_train, cv=cv, scoring=\"accuracy\")\n",
    "    results_leaf.append((leaf, scores.mean(), scores.std()))\n",
    "\n",
    "df_leaf = pd.DataFrame(results_leaf, columns=[\"min_samples_leaf\", \"mean_acc\", \"std_acc\"])\n",
    "display(df_leaf)\n",
    "df_leaf.to_csv(OUTPUTS / \"cv_leaf_results.csv\", index=False)\n",
    "\n",
    "plt.figure(figsize=(7, 4))\n",
    "plt.errorbar(df_leaf[\"min_samples_leaf\"], df_leaf[\"mean_acc\"], yerr=df_leaf[\"std_acc\"], fmt='-o')\n",
    "plt.xlabel(\"min_samples_leaf\")\n",
    "plt.ylabel(\"Validation Accuracy (5-fold CV)\")\n",
    "plt.title(f\"Effect of min_samples_leaf (max_depth={best_depth_val})\")\n",
    "plt.grid(True)\n",
    "savefig(f\"dt_effect_min_samples_leaf_depth_{best_depth_val}.png\")\n",
    "plt.show()\n",
    "\n",
    "best_leaf = df_leaf.loc[df_leaf[\"mean_acc\"].idxmax()]\n",
    "print(f\"Best min_samples_leaf: {int(best_leaf['min_samples_leaf'])}, mean accuracy = {best_leaf['mean_acc']:.4f}\")\n"
   ]
  },
  {
   "cell_type": "markdown",
   "id": "779bb754",
   "metadata": {},
   "source": [
    "With the tree depth fixed at max_depth = 2, varying min_samples_leaf showed that validation accuracy was highest for min_samples_leaf = 4 with a mean of 0.9501 ± 0.0200. Smaller leaf sizes led to slightly lower performance due to overfitting, while larger values reduced accuracy through underfitting. Overall, setting min_samples_leaf = 4 provides the best balance between model simplicity and generalization, resulting in a stable and well-performing model on unseen data."
   ]
  }
 ],
 "metadata": {
  "kernelspec": {
   "display_name": ".venv",
   "language": "python",
   "name": "python3"
  },
  "language_info": {
   "codemirror_mode": {
    "name": "ipython",
    "version": 3
   },
   "file_extension": ".py",
   "mimetype": "text/x-python",
   "name": "python",
   "nbconvert_exporter": "python",
   "pygments_lexer": "ipython3",
   "version": "3.13.7"
  }
 },
 "nbformat": 4,
 "nbformat_minor": 5
}
